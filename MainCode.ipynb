{
 "cells": [
  {
   "cell_type": "code",
   "execution_count": 178,
   "metadata": {},
   "outputs": [],
   "source": [
    "import numpy as np \n",
    "import pandas as pd \n",
    "import re\n",
    "import nltk\n",
    "from nltk.tokenize import word_tokenize \n",
    "from nltk.corpus import stopwords\n",
    "from nltk.stem import WordNetLemmatizer\n",
    "lem = WordNetLemmatizer()\n",
    "from sklearn.feature_extraction.text import CountVectorizer\n",
    "from sklearn.feature_extraction.text import TfidfVectorizer\n",
    "from sklearn.metrics import confusion_matrix \n",
    "from sklearn.model_selection import train_test_split \n",
    "from sklearn.linear_model import LogisticRegression\n",
    "from sklearn.ensemble import RandomForestClassifier\n",
    "from sklearn.metrics import confusion_matrix,f1_score,accuracy_score"
   ]
  },
  {
   "cell_type": "code",
   "execution_count": 179,
   "metadata": {},
   "outputs": [],
   "source": [
    "train_data=pd.read_csv('/home/dugrarao/Documents/NLP/Tweetproject/train_2kmZucJ.csv')\n"
   ]
  },
  {
   "cell_type": "code",
   "execution_count": 180,
   "metadata": {},
   "outputs": [],
   "source": [
    "#cleaning train data\n",
    "for i in range(len(train_data['tweet'])):\n",
    "    txt = train_data.loc[i][\"tweet\"]\n",
    "    txt=re.sub(r'@[A-Z0-9a-z_:]+','',txt)#replace @user tags\n",
    "    txt = re.sub('https?://[A-Za-z0-9./]+','',txt)#replace URLs\n",
    "    txt=re.sub(\"[^a-zA-Z]\", \" \",txt)#replace hashtags\n",
    "    train_data.at[i,\"tweet\"]=txt\n"
   ]
  },
  {
   "cell_type": "code",
   "execution_count": 181,
   "metadata": {},
   "outputs": [],
   "source": [
    "#removing words that are less than 3\n",
    "train_data['tweet']=train_data['tweet'].apply(lambda x: ' '.join([w for w in x.split() if len(w)>3]))\n"
   ]
  },
  {
   "cell_type": "code",
   "execution_count": 182,
   "metadata": {},
   "outputs": [],
   "source": [
    "#Tokenizing\n",
    "tokenized_train_data=train_data['tweet'].apply(lambda x: x.split())\n"
   ]
  },
  {
   "cell_type": "code",
   "execution_count": 183,
   "metadata": {},
   "outputs": [],
   "source": [
    "train_data['tweet'] = tokenized_train_data.apply(lambda x:' '.join([lem.lemmatize(i) for i in x])) # lemmatizing\n"
   ]
  },
  {
   "cell_type": "code",
   "execution_count": 184,
   "metadata": {},
   "outputs": [
    {
     "data": {
      "text/plain": [
       "<7920x1000 sparse matrix of type '<class 'numpy.int64'>'\n",
       "\twith 49661 stored elements in Compressed Sparse Row format>"
      ]
     },
     "execution_count": 184,
     "metadata": {},
     "output_type": "execute_result"
    }
   ],
   "source": [
    "#bagofwords\n",
    "from sklearn.feature_extraction.text import CountVectorizer\n",
    "bow_vectorizer_train_data = CountVectorizer(max_df=0.90, min_df=2, max_features=1000, stop_words='english')\n",
    "bow_train_data = bow_vectorizer_train_data.fit_transform(train_data['tweet'])\n",
    "bow_train_data"
   ]
  },
  {
   "cell_type": "code",
   "execution_count": 185,
   "metadata": {},
   "outputs": [
    {
     "data": {
      "text/plain": [
       "<7920x1000 sparse matrix of type '<class 'numpy.float64'>'\n",
       "\twith 49661 stored elements in Compressed Sparse Row format>"
      ]
     },
     "execution_count": 185,
     "metadata": {},
     "output_type": "execute_result"
    }
   ],
   "source": [
    "#Tf-idf\n",
    "from sklearn.feature_extraction.text import TfidfVectorizer\n",
    "tfidf_vectorizer_train_data = TfidfVectorizer(max_df=0.90, min_df=2, max_features=1000, stop_words='english')\n",
    "tfidf_train_data = tfidf_vectorizer_train_data.fit_transform(train_data['tweet'])\n",
    "tfidf_train_data"
   ]
  },
  {
   "cell_type": "code",
   "execution_count": 186,
   "metadata": {},
   "outputs": [
    {
     "data": {
      "text/plain": [
       "(<6336x1000 sparse matrix of type '<class 'numpy.float64'>'\n",
       " \twith 39734 stored elements in Compressed Sparse Row format>,\n",
       " <1584x1000 sparse matrix of type '<class 'numpy.float64'>'\n",
       " \twith 9927 stored elements in Compressed Sparse Row format>)"
      ]
     },
     "execution_count": 186,
     "metadata": {},
     "output_type": "execute_result"
    }
   ],
   "source": [
    "#splitting train data\n",
    "x_train, x_test, y_train, y_test = train_test_split(tfidf_train_data,train_data[\"label\"], test_size = 0.2, random_state = 42)\n",
    "x_train,x_test"
   ]
  },
  {
   "cell_type": "code",
   "execution_count": 187,
   "metadata": {},
   "outputs": [
    {
     "data": {
      "text/plain": [
       "LogisticRegression(C=1.0, class_weight=None, dual=False, fit_intercept=True,\n",
       "                   intercept_scaling=1, l1_ratio=None, max_iter=100,\n",
       "                   multi_class='auto', n_jobs=None, penalty='l2',\n",
       "                   random_state=None, solver='lbfgs', tol=0.0001, verbose=0,\n",
       "                   warm_start=False)"
      ]
     },
     "execution_count": 187,
     "metadata": {},
     "output_type": "execute_result"
    }
   ],
   "source": [
    "#Building Logistic Regression model\n",
    "lreg = LogisticRegression()\n",
    "lreg.fit(x_train, y_train)"
   ]
  },
  {
   "cell_type": "code",
   "execution_count": 188,
   "metadata": {},
   "outputs": [],
   "source": [
    "prediction_int1=lreg.predict_proba(x_test)\n",
    "train_data_predicted_val=prediction_int1[:,1] >= 0.4\n",
    "train_data_predicted_val=train_data_predicted_val.astype(np.int)"
   ]
  },
  {
   "cell_type": "code",
   "execution_count": 189,
   "metadata": {},
   "outputs": [
    {
     "data": {
      "text/plain": [
       "0.7929824561403509"
      ]
     },
     "execution_count": 189,
     "metadata": {},
     "output_type": "execute_result"
    }
   ],
   "source": [
    "f1_score(y_test,train_data_predicted_val)"
   ]
  },
  {
   "cell_type": "code",
   "execution_count": 190,
   "metadata": {},
   "outputs": [
    {
     "data": {
      "text/plain": [
       "array([[1068,   84],\n",
       "       [  93,  339]])"
      ]
     },
     "execution_count": 190,
     "metadata": {},
     "output_type": "execute_result"
    }
   ],
   "source": [
    "confusion_matrix(y_test,train_data_predicted_val)"
   ]
  },
  {
   "cell_type": "code",
   "execution_count": 191,
   "metadata": {},
   "outputs": [
    {
     "data": {
      "text/plain": [
       "0.8882575757575758"
      ]
     },
     "execution_count": 191,
     "metadata": {},
     "output_type": "execute_result"
    }
   ],
   "source": [
    "accuracy_score(y_test,train_data_predicted_val)"
   ]
  },
  {
   "cell_type": "code",
   "execution_count": 192,
   "metadata": {},
   "outputs": [],
   "source": [
    "#For test data\n",
    "test_data=pd.read_csv('test_oJQbWVk.csv')\n"
   ]
  },
  {
   "cell_type": "code",
   "execution_count": 193,
   "metadata": {},
   "outputs": [],
   "source": [
    "#Cleaning test data\n",
    "for i in range(len(test_data['tweet'])):\n",
    "    txt = test_data.loc[i][\"tweet\"]\n",
    "    txt=re.sub(r'@[A-Z0-9a-z_:]+','',txt)#replace username-tags\n",
    "    txt = re.sub('https?://[A-Za-z0-9./]+','',txt)#replace URLs\n",
    "    txt=re.sub(\"[^a-zA-Z]\", \" \",txt)#replace hashtags\n",
    "    test_data.at[i,\"tweet\"]=txt\n",
    "#removing words that are less than 3\n",
    "test_data['tweet']=test_data['tweet'].apply(lambda x: ' '.join([w for w in x.split() if len(w)>3]))\n",
    "#Tokenizing\n",
    "tokenized_test_data=test_data['tweet'].apply(lambda x: x.split())\n",
    "test_data['tweet'] = tokenized_test_data.apply(lambda x:' '.join([lem.lemmatize(i) for i in x])) # lemmatizing\n"
   ]
  },
  {
   "cell_type": "code",
   "execution_count": 194,
   "metadata": {},
   "outputs": [],
   "source": [
    "#Bagofwords\n",
    "bow_vectorizer_test_data = CountVectorizer(max_df=0.90, min_df=2, max_features=1000, stop_words='english')\n",
    "bow_test_data = bow_vectorizer_test_data.fit_transform(test_data['tweet'])\n"
   ]
  },
  {
   "cell_type": "code",
   "execution_count": 195,
   "metadata": {},
   "outputs": [
    {
     "data": {
      "text/plain": [
       "<1953x1000 sparse matrix of type '<class 'numpy.float64'>'\n",
       "\twith 12191 stored elements in Compressed Sparse Row format>"
      ]
     },
     "execution_count": 195,
     "metadata": {},
     "output_type": "execute_result"
    }
   ],
   "source": [
    "#Tf-idf\n",
    "\n",
    "tfidf_vectorizer_test_data = TfidfVectorizer(max_df=0.90, min_df=2, max_features=1000, stop_words='english')\n",
    "tfidf_test_data = tfidf_vectorizer_test_data.fit_transform(test_data['tweet'])\n",
    "tfidf_test_data"
   ]
  },
  {
   "cell_type": "code",
   "execution_count": 196,
   "metadata": {},
   "outputs": [],
   "source": [
    "lreg = LogisticRegression()\n",
    "lreg.fit(tfidf_train_data, train_data['label'])\n",
    "prediction_int1=lreg.predict_proba(tfidf_test_data)\n",
    "test_data_predicted_val=prediction_int1[:,1] >= 0.4\n",
    "test_data_predicted_val=test_data_predicted_val.astype(np.int)"
   ]
  },
  {
   "cell_type": "code",
   "execution_count": 197,
   "metadata": {},
   "outputs": [],
   "source": [
    "#Predictions to csv\n",
    "final_result = pd.DataFrame({'id':test_data['id'],'label':test_data_predicted_val})\n",
    "final_result.to_csv('LogisticRegressionOutput.csv',index=False)\n",
    "\n"
   ]
  }
 ],
 "metadata": {
  "kernelspec": {
   "display_name": "Python 3",
   "language": "python",
   "name": "python3"
  },
  "language_info": {
   "codemirror_mode": {
    "name": "ipython",
    "version": 3
   },
   "file_extension": ".py",
   "mimetype": "text/x-python",
   "name": "python",
   "nbconvert_exporter": "python",
   "pygments_lexer": "ipython3",
   "version": "3.6.9"
  }
 },
 "nbformat": 4,
 "nbformat_minor": 4
}
